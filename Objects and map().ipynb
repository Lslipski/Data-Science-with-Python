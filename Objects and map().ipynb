{
 "cells": [
  {
   "cell_type": "markdown",
   "metadata": {},
   "source": [
    "# Objects and map()"
   ]
  },
  {
   "cell_type": "code",
   "execution_count": 2,
   "metadata": {
    "collapsed": true
   },
   "outputs": [],
   "source": [
    "#define new class for car objects. All have 4 seats, and the make, model, and color can be set for each instance\n",
    "class Car:\n",
    "    seats = 4\n",
    "    \n",
    "    def set_make(self, new_make):\n",
    "        self.make = new_make\n",
    "    def set_model(self, new_model):\n",
    "        self.model = new_model\n",
    "    def set_color(self, new_color):\n",
    "        self.color = new_color\n",
    "        "
   ]
  },
  {
   "cell_type": "code",
   "execution_count": 3,
   "metadata": {
    "collapsed": true
   },
   "outputs": [],
   "source": [
    "#instantiate class Car\n",
    "tesla = Car()"
   ]
  },
  {
   "cell_type": "code",
   "execution_count": 11,
   "metadata": {},
   "outputs": [
    {
     "data": {
      "text/plain": [
       "4"
      ]
     },
     "execution_count": 11,
     "metadata": {},
     "output_type": "execute_result"
    }
   ],
   "source": [
    "#call the number of seats in the new car\n",
    "tesla.seats"
   ]
  },
  {
   "cell_type": "code",
   "execution_count": 13,
   "metadata": {},
   "outputs": [
    {
     "data": {
      "text/plain": [
       "'red'"
      ]
     },
     "execution_count": 13,
     "metadata": {},
     "output_type": "execute_result"
    }
   ],
   "source": [
    "#set the color of the new car to red\n",
    "tesla.set_color('red')\n",
    "tesla.color"
   ]
  },
  {
   "cell_type": "code",
   "execution_count": 22,
   "metadata": {},
   "outputs": [
    {
     "data": {
      "text/plain": [
       "<map at 0x7f72ec1945c0>"
      ]
     },
     "execution_count": 22,
     "metadata": {},
     "output_type": "execute_result"
    }
   ],
   "source": [
    "#map() is used to apply a function to multiple iterables\n",
    "store1 = [10.0, 12.0, 8.0, 20.0]\n",
    "store2 = [5.0, 11.0, 3.0]\n",
    "cheapest = map(min, store1, store2)\n",
    "#map does a lazy evaluation, which returns a map object. It hasn't run the function yet, which is memory efficient\n",
    "cheapest"
   ]
  },
  {
   "cell_type": "code",
   "execution_count": 23,
   "metadata": {},
   "outputs": [
    {
     "data": {
      "text/plain": [
       "['Mr.Obama', 'Mr.Cruise', 'Dr.Oz', 'Mrs.Clinton']"
      ]
     },
     "execution_count": 23,
     "metadata": {},
     "output_type": "execute_result"
    }
   ],
   "source": [
    "#use map() to take a list of people with their titles and output a list of title + last name \n",
    "people = ['Mr. B Obama', 'Mr. Tom Cruise', 'Dr. Powerful Oz', 'Mrs. Hil Clinton']\n",
    "\n",
    "def split_title_and_name(person):\n",
    "    title = person.split()[0]\n",
    "    name = person.split()[2]\n",
    "    return title + name\n",
    "\n",
    "list(map(split_title_and_name, people))\n",
    "\n",
    "#list(map(split_title_and_name, people))"
   ]
  },
  {
   "cell_type": "code",
   "execution_count": null,
   "metadata": {
    "collapsed": true
   },
   "outputs": [],
   "source": []
  }
 ],
 "metadata": {
  "kernelspec": {
   "display_name": "Python 3",
   "language": "python",
   "name": "python3"
  },
  "language_info": {
   "codemirror_mode": {
    "name": "ipython",
    "version": 3
   },
   "file_extension": ".py",
   "mimetype": "text/x-python",
   "name": "python",
   "nbconvert_exporter": "python",
   "pygments_lexer": "ipython3",
   "version": "3.6.1"
  }
 },
 "nbformat": 4,
 "nbformat_minor": 2
}
